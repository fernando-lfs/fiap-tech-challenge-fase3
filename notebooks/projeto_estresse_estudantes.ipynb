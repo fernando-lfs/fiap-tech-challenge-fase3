{
 "cells": [
  {
   "cell_type": "markdown",
   "id": "3f8dbf4a",
   "metadata": {},
   "source": [
    "# 📊 Tech Challenge - Análise e Previsão de Fatores de Estresse em Estudantes"
   ]
  },
  {
   "cell_type": "markdown",
   "id": "317e296c",
   "metadata": {},
   "source": [
    "## 📝 Definição do problema\n",
    "\n",
    "* **Problema de Negócio:** Instituições de ensino precisam identificar estudantes em risco de estresse elevado para oferecer suporte adequado no momento certo. Este projeto visa criar uma solução preditiva que auxilie nessa identificação, permitindo intervenções mais direcionadas e eficazes.\n",
    "* **Objetivo Técnico:** O problema foi enquadrado como um desafio de **Classificação Multiclasse**. O objetivo é treinar um modelo de Machine Learning para prever o nível de estresse de um estudante em uma de três categorias (0: baixo, 1: médio, 2: alto), utilizando a coluna `stress_level` como variável-alvo."
   ]
  },
  {
   "cell_type": "markdown",
   "id": "fa96308d",
   "metadata": {},
   "source": [
    "\n",
    "\n",
    "## 📑 Sumário\n",
    "1. ⚙️ Configuração do Ambiente\n",
    "2. 📥 Coleta, Armazenamento e Carregamento\n",
    "3. 📊 Análise Exploratória de Dados (EDA)\n",
    "4. 🧹 Pré-processamento e Preparação dos Dados\n",
    "5. 🤖 Modelagem e Treinamento\n",
    "6. 🛠️ Otimização de Hiperparâmetros\n",
    "7. 🏁 Conclusão\n",
    "\n",
    "# 📖 Sumário do Projeto\n",
    "\n",
    "* [1. ⚙️ Configuração do Ambiente](#1-configuracao-do-ambiente)\n",
    "* [2. 📥 Coleta, Armazenamento e Carregamento](#2-coleta-armazenamento-e-carregamento)\n",
    "* [3. 📊 Análise Exploratória de Dados (EDA)](#3-analise-exploratoria-de-dados-eda)\n",
    "* [4. 🧹 Pré-processamento e Preparação dos Dados](#4-pre-processamento-e-preparacao-dos-dados)\n",
    "* [5. 🤖 Modelagem e Treinamento](#5-modelagem-e-treinamento)\n",
    "* [6. 🛠️ Otimização de Hiperparâmetros](#6-otimizacao-de-hiperparametros)\n",
    "* [7. 🏁 Conclusão](#7-conclusao)\n",
    "\n",
    "# 📖 Sumário\n",
    "1. [⚙️ Configuração do Ambiente](#1-configuracao-do-ambiente)\n",
    "2. [📥 Coleta, Armazenamento e Carregamento](#2-coleta-armazenamento-e-carregamento)\n",
    "3. [📊 Análise Exploratória de Dados (EDA)](#3-analise-exploratoria-de-dados-eda)\n",
    "4. [🧹 Pré-processamento e Preparação dos Dados](#4-pre-processamento-e-preparacao-dos-dados)\n",
    "5. [🤖 Modelagem e Treinamento](#5-modelagem-e-treinamento)\n",
    "6. [🛠️ Otimização de Hiperparâmetros](#6-otimizacao-de-hiperparametros)\n",
    "7. [🏁 Conclusão](#7-conclusao)"
   ]
  },
  {
   "cell_type": "markdown",
   "id": "4e91a6d4",
   "metadata": {},
   "source": [
    "# 1. ⚙️ Configuração do Ambiente"
   ]
  },
  {
   "cell_type": "markdown",
   "id": "c107ed51",
   "metadata": {},
   "source": [
    "### 📌 Preparação do ambiente de trabalho\n",
    "\n",
    "* **1. Importação de Bibliotecas:** Carregamos todas as ferramentas necessárias para manipulação de dados (pandas), visualização (matplotlib, seaborn), modelagem (scikit-learn) e outras operações. Centralizar as importações no início do notebook é uma boa prática que organiza o código e deixa claro quais são as dependências do projeto.\n",
    "* **2. Configuração do Projeto:** Adicionamos o diretório raiz ao path do sistema para permitir a importação de módulos customizados, como o dicionário FEATURE_TRANSLATOR do arquivo config.py.\n",
    "* **3. Definição de Constantes e Padrões:** Estabelecemos constantes globais, como o nome da variável alvo (TARGET_VARIABLE) e a semente de aleatoriedade (RANDOM_STATE), para garantir consistência e reprodutibilidade. Também definimos um estilo visual padrão para todos os gráficos do notebook."
   ]
  },
  {
   "cell_type": "code",
   "execution_count": null,
   "id": "d4538c03",
   "metadata": {},
   "outputs": [],
   "source": [
    "# --- 1. Importação de Bibliotecas ---\n",
    "\n",
    "# Manipulação de dados e sistema\n",
    "import os\n",
    "import sys\n",
    "from io import BytesIO\n",
    "\n",
    "# Análise e visualização\n",
    "import boto3\n",
    "import joblib\n",
    "import matplotlib.pyplot as plt\n",
    "import pandas as pd\n",
    "import seaborn as sns\n",
    "\n",
    "# Componentes do Scikit-Learn para modelagem e avaliação\n",
    "from sklearn.dummy import DummyClassifier\n",
    "from sklearn.ensemble import RandomForestClassifier\n",
    "from sklearn.metrics import (\n",
    "    ConfusionMatrixDisplay,\n",
    "    accuracy_score,\n",
    "    classification_report,\n",
    ")\n",
    "from sklearn.model_selection import train_test_split\n",
    "from sklearn.tree import DecisionTreeClassifier\n",
    "\n",
    "# --- 2. Configuração do Projeto ---\n",
    "\n",
    "# Adiciona o diretório raiz ao path para importar modulo de dicionário de tradução dos nomes das features\n",
    "project_root = os.path.abspath(os.path.join(os.getcwd(), os.pardir))\n",
    "if project_root not in sys.path:\n",
    "    sys.path.append(project_root)\n",
    "\n",
    "from config import FEATURE_TRANSLATOR\n",
    "\n",
    "# --- 3. Padrões de Visualização ---\n",
    "\n",
    "# Define um estilo visual consistente para todos os gráficos do notebook\n",
    "sns.set_style(\"whitegrid\")\n",
    "plt.rcParams[\"figure.figsize\"] = (12, 6)\n",
    "\n",
    "# --- 4. Mensagem de Confirmação ---\n",
    "\n",
    "print(\"✅ Ambiente configurado com sucesso.\")\n",
    "print(\n",
    "    f\"   └── Dicionário 'FEATURE_TRANSLATOR' carregado com {len(FEATURE_TRANSLATOR)} traduções.\"\n",
    ")"
   ]
  },
  {
   "cell_type": "code",
   "execution_count": null,
   "id": "d223bdfb",
   "metadata": {},
   "outputs": [],
   "source": [
    "# --- Constantes do Projeto ---\n",
    "\n",
    "# Nome da variável alvo a ser utilizada em todo o notebook\n",
    "TARGET_VARIABLE = \"stress_level\"\n",
    "\n",
    "# Semente randômica para garantir a reprodutibilidade dos experimentos\n",
    "RANDOM_STATE = 42"
   ]
  },
  {
   "cell_type": "markdown",
   "id": "2dc36980",
   "metadata": {},
   "source": [
    "# 2. 📥 Coleta, Armazenamento e Carregamento"
   ]
  },
  {
   "cell_type": "markdown",
   "id": "ab32f6df",
   "metadata": {},
   "source": [
    "## 📌 Coleta de Dados\n",
    "\n",
    "* **Fonte dos Dados:** Foi utilizado um dataset público da plataforma Kaggle, chamado \"Student Stress Factors - A Comprehensive Analysis\".\n",
    "* **Justificativa:** A utilização de um dataset já existente foi uma decisão estratégica para otimizar o tempo e concentrar os esforços do projeto nas etapas de Análise, Modelagem e Deploy, que são o foco do desafio.\n",
    "\n",
    "## 📌 Armazenamento dos Dados\n",
    "\n",
    "* **Solução Adotada:** Para simular um ambiente de produção e garantir a reprodutibilidade, os dados foram armazenados em um sistema de armazenamento de objetos local (MinIO)].\n",
    "* **Processo:** Um bucket chamado `student-stress` foi criado no servidor MinIO , e o dataset `StressLevelDataset.csv` foi carregado, tornando-se acessível via serviço para a etapa de análise.\n",
    "\n",
    "## 📌 Carregamento dos Dados\n",
    "\n",
    "* **Processo:** O código abaixo configura as credenciais de acesso (priorizando variáveis de ambiente por segurança) e estabelece uma conexão com o MinIO. Em seguida, ele lê o arquivo `StressLevelDataset.csv` diretamente do bucket de armazenamento para um DataFrame do pandas, que é a estrutura de dados fundamental que usaremos para toda a análise.\n"
   ]
  },
  {
   "cell_type": "code",
   "execution_count": null,
   "id": "eeaedd36",
   "metadata": {},
   "outputs": [],
   "source": [
    "# --- 1. Configurações de Conexão ---\n",
    "# As credenciais são carregadas de variáveis de ambiente para segurança.\n",
    "# Valores padrão são fornecidos para facilitar a execução em ambiente local.\n",
    "MINIO_ENDPOINT = os.getenv(\"MINIO_ENDPOINT\", \"127.0.0.1:9000\")\n",
    "MINIO_ACCESS_KEY = os.getenv(\"MINIO_ACCESS_KEY\", \"minioadmin\")\n",
    "MINIO_SECRET_KEY = os.getenv(\"MINIO_SECRET_KEY\", \"minioadmin\")\n",
    "BUCKET_NAME = \"student-stress\"\n",
    "OBJECT_NAME = \"StressLevelDataset.csv\"\n",
    "\n",
    "# --- 2. Carregamento dos Dados ---\n",
    "try:\n",
    "    # Inicializa o cliente S3 para interagir com o MinIO\n",
    "    s3_client = boto3.client(\n",
    "        \"s3\",\n",
    "        endpoint_url=f\"http://{MINIO_ENDPOINT}\",\n",
    "        aws_access_key_id=MINIO_ACCESS_KEY,\n",
    "        aws_secret_access_key=MINIO_SECRET_KEY,\n",
    "        config=boto3.session.Config(signature_version=\"s3v4\"),\n",
    "    )\n",
    "\n",
    "    # Busca o objeto no bucket e o carrega em um DataFrame\n",
    "    response = s3_client.get_object(Bucket=BUCKET_NAME, Key=OBJECT_NAME)\n",
    "    df = pd.read_csv(BytesIO(response[\"Body\"].read()))\n",
    "\n",
    "    print(\n",
    "        f\"✅ Dataset '{OBJECT_NAME}' carregado com sucesso do bucket '{BUCKET_NAME}'.\"\n",
    "    )\n",
    "\n",
    "except Exception as e:\n",
    "    print(f\"❌ Erro ao carregar o dataset do MinIO: {e}\")"
   ]
  },
  {
   "cell_type": "markdown",
   "id": "e3c5989e",
   "metadata": {},
   "source": [
    "# 3. 📊 Análise Exploratória de Dados (EDA)"
   ]
  },
  {
   "cell_type": "markdown",
   "id": "89856bdc",
   "metadata": {},
   "source": [
    "A Análise Exploratória de Dados (EDA) é uma das etapas fundamentais de qualquer projeto de Machine Learning. É quando realmente começamos a conhecer os dados: entender como estão organizados, descobrir padrões escondidos, identificar problemas e extrair os primeiros insights que vão orientar todo o trabalho seguinte — desde a limpeza até a construção dos modelos.\n",
    "Vamos dividir nossa EDA em três etapas:\n",
    "* **Análise Estrutural e de Qualidade:** verificar dimensões, tipos de variáveis, dados ausentes e registros duplicados.\n",
    "* **Análise Descritiva:** calcular estatísticas básicas e observar uma amostra representativa do conjunto.\n",
    "* **Visualização de Dados:** criar gráficos que revelam a distribuição das variáveis e as relações entre elas."
   ]
  },
  {
   "cell_type": "markdown",
   "id": "7c3099c6",
   "metadata": {},
   "source": [
    "## 📌 Análise Estrutural e de Qualidade\n",
    "* **Objetivo:** Ter uma visão geral da estrutura do dataset e verificar a integridade dos dados (nulos e duplicados)."
   ]
  },
  {
   "cell_type": "code",
   "execution_count": null,
   "id": "c1acface",
   "metadata": {},
   "outputs": [],
   "source": [
    "# 1. Dimensões do DataFrame\n",
    "print(f\"O dataset possui {df.shape[0]} linhas e {df.shape[1]} colunas.\\n\")\n",
    "\n",
    "# 2. Análise de Tipos de Dados e Valores Nulos\n",
    "print(\"Análise de tipos de dados e valores nulos por coluna:\")\n",
    "info_df = pd.DataFrame(\n",
    "    {\n",
    "        \"Tipo de Dado\": df.dtypes,\n",
    "        \"Valores Nulos\": df.isnull().sum(),\n",
    "        \"% Nulos\": (df.isnull().sum() / df.shape[0]) * 100,\n",
    "    }\n",
    ")\n",
    "display(info_df.sort_values(by=\"% Nulos\", ascending=False))\n",
    "\n",
    "# 3. Verificação de Linhas Duplicadas\n",
    "num_duplicates = df.duplicated().sum()\n",
    "if num_duplicates > 0:\n",
    "    print(f\"\\n❌ Alerta: Foram encontradas {num_duplicates} linhas duplicadas.\")\n",
    "else:\n",
    "    print(\"\\n✅ Nenhuma linha duplicada foi encontrada no dataset.\")"
   ]
  },
  {
   "cell_type": "markdown",
   "id": "7fdb3aed",
   "metadata": {},
   "source": [
    "### 📋 Análise dos Resultados\n",
    "\n",
    "#### **Inspeção Inicial:**\n",
    "\n",
    "A análise estrutural, realizada com os comandos `.shape`, `.info()` e `.duplicated()`, revelou as seguintes conclusões:\n",
    "\n",
    "* **Dimensões:** Temos 1100 registros distribuídos em 21 colunas.\n",
    "* **Valores Ausentes:** Não encontramos nenhum valor nulo no dataset. Isso nos poupa da necessidade de aplicar técnicas de imputação de dados.\n",
    "* **Registros Duplicados:** Não há linhas duplicadas. Cada registro é único, o que garante a integridade da nossa base.\n",
    "* **Tipos de Dados:** Todas as colunas já estão em formato numérico (`int64`). Isso simplifica bastante o pré-processamento, já que não precisaremos fazer encoding de variáveis categóricas."
   ]
  },
  {
   "cell_type": "markdown",
   "id": "46f87ead",
   "metadata": {},
   "source": [
    "## 📌 Análise Descritiva\n",
    "* **Objetivo:** Analisar uma pequena amostra dos dados (5 primeiras linhas do dataset) para entender a natureza das colunas e, em seguida, obter um resumo estatístico das variáveis numéricas, como média, desvio padrão, mínimo e máximo."
   ]
  },
  {
   "cell_type": "code",
   "execution_count": null,
   "id": "67526760",
   "metadata": {},
   "outputs": [],
   "source": [
    "# 1. Amostra dos Dados\n",
    "print(\"As 5 primeiras linhas do dataset:\")\n",
    "display(df.head())\n",
    "\n",
    "# 2. Estatísticas Descritivas\n",
    "print(\"\\nResumo estatístico das variáveis numéricas:\")\n",
    "descriptive_stats = df.describe().T\n",
    "display(descriptive_stats.style.format(\"{:.2f}\"))"
   ]
  },
  {
   "cell_type": "markdown",
   "id": "66b72636",
   "metadata": {},
   "source": [
    "### 📋 Análise dos Resultados\n",
    "\n",
    "#### **Análise de Outliers e Natureza das Variáveis:**\n",
    "\n",
    "A análise das estatísticas descritivas (`.describe()`) nos permite entender a natureza das nossas variáveis:\n",
    "\n",
    "* **Natureza Ordinal:** A maioria das features são ordinais, representando escalas fixas — geralmente de 0 a 5.\n",
    "* **Tratamento de Outliers:** Considerando que os valores nos extremos dessas escalas (como 0 ou 5) são respostas válidas e representam os limites das opções disponíveis para os estudantes, a aplicação de técnicas de remoção de outliers seria inadequada. Tais valores são fundamentais para o modelo entender os diferentes níveis de estresse.\n",
    "* **Decisão:** Nenhuma ação de tratamento de outliers será realizada."
   ]
  },
  {
   "cell_type": "markdown",
   "id": "39bad3e6",
   "metadata": {},
   "source": [
    "## 📌 Visualização de dados\n",
    "* **Objetivo:** Extrair insights sobre as distribuições de dados e as relações entre os fatores pesquisados e o nível de estresse dos estudantes.\n",
    "\n",
    "**Nesta subseção, exploraremos:**\n",
    "* A distribuição da nossa variável alvo (stress_level) para verificar o balanceamento entre as classes.\n",
    "* A distribuição individual de cada feature preditiva.\n",
    "* A relação entre cada feature e a variável alvo. \n",
    "* Uma matriz de correlação para identificar relações lineares entre as variáveis."
   ]
  },
  {
   "cell_type": "markdown",
   "id": "004943c4",
   "metadata": {},
   "source": [
    "### 🔎 Distribuição da Variável Alvo\n",
    "\n",
    "* **Objetivo:** Verificar a distribuição da variável alvo  `stress_level` com o intuito de identificar se as classes (0: baixo, 1: médio, 2: alto) estão balanceadas. Um desbalanceamento severo poderia enviesar o modelo, fazendo-o performar melhor para as classes mais frequentes."
   ]
  },
  {
   "cell_type": "code",
   "execution_count": null,
   "id": "feba18ce",
   "metadata": {},
   "outputs": [],
   "source": [
    "# Configuração da área de plotagem\n",
    "fig, ax = plt.subplots(figsize=(8, 6))\n",
    "\n",
    "# Gráfico de contagem para a variável alvo\n",
    "sns.countplot(\n",
    "    data=df,\n",
    "    x=TARGET_VARIABLE,\n",
    "    hue=TARGET_VARIABLE,\n",
    "    palette=\"viridis\",\n",
    "    order=[0, 1, 2],\n",
    "    legend=False,\n",
    "    ax=ax,\n",
    ")\n",
    "\n",
    "# Adiciona rótulos de contagem sobre as barras\n",
    "for container in ax.containers:\n",
    "    ax.bar_label(container, padding=3, fontsize=11)\n",
    "\n",
    "# Títulos e rótulos\n",
    "ax.set_title(\"Distribuição dos Níveis de Estresse (Variável Alvo)\", fontsize=16, pad=20)\n",
    "ax.set_xlabel(\"Nível de Estresse (0: Baixo, 1: Médio, 2: Alto)\", fontsize=12)\n",
    "ax.set_ylabel(\"Contagem de Estudantes\", fontsize=12)\n",
    "\n",
    "plt.tight_layout()\n",
    "plt.show()"
   ]
  },
  {
   "cell_type": "markdown",
   "id": "242df6b8",
   "metadata": {},
   "source": [
    "#### 📋 Análise dos Resultados\n",
    "\n",
    "##### **Conclusão sobre a Variável-Alvo**\n",
    "A distribuição de stress_level mostra um balanceamento excelente entre as três classes:\n",
    "\n",
    "* **Baixo (0):** 373 registros\n",
    "* **Médio (1):** 358 registros\n",
    "* **Alto (2):** 369 registros\n",
    "\n",
    "Essa distribuição equilibrada é ideal para o treinamento do modelo de classificação. Não precisaremos aplicar técnicas de balanceamento de classes, o que simplifica nosso pipeline e evita possíveis vieses artificiais."
   ]
  },
  {
   "cell_type": "markdown",
   "id": "f7751afa",
   "metadata": {},
   "source": [
    "### 🔎 Análise Univariada\n",
    "\n",
    "* **Objetivo:** Visualizar a distribuição de cada variável preditiva para entender o perfil geral das respostas dos estudantes. Como a maioria das variáveis é ordinal (escalas de 0 a 5), gráficos de contagem são ideais."
   ]
  },
  {
   "cell_type": "code",
   "execution_count": null,
   "id": "043b49ce",
   "metadata": {},
   "outputs": [],
   "source": [
    "# Identifica as features preditivas (excluindo a variável alvo)\n",
    "features = df.drop(TARGET_VARIABLE, axis=1).columns.tolist()\n",
    "\n",
    "# Define a estrutura da grade de visualização\n",
    "n_cols = 3\n",
    "n_rows = (len(features) + n_cols - 1) // n_cols\n",
    "\n",
    "# Cria a figura e os eixos para os subplots\n",
    "fig, axes = plt.subplots(n_rows, n_cols, figsize=(15, n_rows * 4.5))\n",
    "axes = axes.flatten()\n",
    "\n",
    "# Gera um gráfico de contagem para cada feature\n",
    "for i, feature in enumerate(features):\n",
    "    ax = axes[i]\n",
    "    titulo_grafico = FEATURE_TRANSLATOR.get(feature, feature)\n",
    "\n",
    "    sns.countplot(\n",
    "        x=feature, data=df, ax=ax, palette=\"plasma\", hue=feature, legend=False\n",
    "    )\n",
    "    ax.set_title(f\"Distribuição de '{titulo_grafico}'\", fontsize=12, weight=\"bold\")\n",
    "    ax.set_xlabel(\"\")\n",
    "    ax.set_ylabel(\"Contagem\")\n",
    "\n",
    "# Oculta eixos não utilizados\n",
    "for i in range(len(features), len(axes)):\n",
    "    axes[i].axis(\"off\")\n",
    "\n",
    "plt.tight_layout(pad=2.0)\n",
    "plt.show()"
   ]
  },
  {
   "cell_type": "markdown",
   "id": "1567b287",
   "metadata": {},
   "source": [
    "#### 📋 Análise dos Resultados\n",
    "\n",
    "##### **Observações Gerais e Conclusões da Análise Univariada:**\n",
    "\n",
    "Os gráficos de distribuição revelam um retrato multifacetado dos estudantes. Vamos explorar os principais achados por categoria:\n",
    "\n",
    "**1. Fatores Acadêmicos e de Carreira:**\n",
    "* **`Desempenho Acadêmico`**: A autoavaliação de desempenho se concentra no nível 2 (regular). Poucos se classificam no nível mais baixo, e uma parcela relevante se avalia nos níveis altos (4 e 5). Isso sugere que o desempenho acadêmico pode não estar tão atrelado ao estresse quanto imaginamos.\n",
    "* **`Carga de Estudos`**: A percepção de carga de estudos está concentrada nos níveis intermediários a altos (picos em 2 e 3). Tudo indica um ambiente acadêmico exigente e uma pressão constante.\n",
    "* **`Relação Professor-Aluno`**: O pico no nível 2 sugere que a relação com professores é vista como funcional ou neutra. A baixa frequência nos extremos (0 e 5) indica mais distância do que conexão forte ou conflito aberto.\n",
    "* **`Preocupações com a Carreira`**: As preocupações com a carreira se concentram em intensidade baixa a moderada (picos em 1 e 2). Não parece ser o principal vetor de ansiedade comparado a outros fatores.\n",
    "* **`Atividades Extracurriculares`**: A maioria participa de alguma atividade extracurricular, com destaque para o nível 2. Isso pode estar relacionado à sobrecarga de compromissos e ao sono insuficiente.\n",
    "\n",
    "**2. Fatores Psicológicos e de Saúde Mental:**\n",
    "* **`Histórico de Saúde Mental`**: A distribuição é praticamente 50/50 entre estudantes com e sem histórico clínico de saúde mental. Esse equilíbrio é importante — não temos uma classe minoritária aqui.\n",
    "* **`Nível de Ansiedadel` e `Nível de Depressão`**: Distribuições amplas, sem picos definidos. Isso confirma a heterogeneidade da amostra: temos desde estudantes assintomáticos até aqueles com sintomas severos. O modelo precisará lidar com esse espectro completo.\n",
    "* **`Nível de Autoestima`**: A tendência geral é de autoestima moderada a alta, com concentração em escores acima de 15. O pico notável no nível 25 pode indicar um subgrupo com autoconfiança particularmente elevada — ou talvez seja apenas um artefato da escala de medição. \n",
    "\n",
    "**3. Fatores Sociais e de Relacionamento:**\n",
    "* **`Suporte Social`**: A distribuição bimodal é reveladora: há dois grupos distintos e igualmente expressivos. Um percebe o apoio social como forte (pico no 3), enquanto o outro o considera insuficiente (pico no 1). O suporte social claramente não é uniforme nesta amostra.\n",
    "* **`Frequência de Bullying`**: A distribuição indica que o Frequência de Bullying é prevalente. O pico no nível 1 e as baixas ocorrências no nível 0 sugerem que a maioria já sofreu algum tipo de Frequência de Bullying, ainda que de baixa intensidade.O pico no nível 1 e as baixas ocorrências no nível 0 sugerem que a maioria dos estudantes já sofreu algum tipo de Frequência de Bullying, ainda que de baixa intensidade.\n",
    "* **`Pressão dos Colegas`**: A pressão dos colegas é percebida com intensidade moderada (pico no 2) — presente, mas não extrema, no cotidiano dos estudantes.\n",
    "\n",
    "**4. Fatores de Bem-Estar e Ambiente:**\n",
    "* **`Condições de Moradia`**: Concentração nos níveis intermediários (2, 3 e 4). A maioria não enfrenta privações severas nem vive em abundância — um perfil socioeconômico intermediário.\n",
    "* **`Sensação de Segurança` e `Atendimento de Necessidades Básicas`**: A grande maioria se sente segura e com necessidades básicas atendidas, mas a percepção é mais \"razoável\" (pico no 2) do que \"excelente\". A quase ausência de respostas no nível 0 é um sinal positivo.\n",
    "* **`Nível de Ruído`**: Concentração nos níveis intermediários. Ambientes perfeitamente silenciosos não são a realidade para a maioria.\n",
    "* **`Qualidade do Sono`**: Aqui temos um ponto crítico de atenção. A forte concentração em níveis baixos, com pico expressivo no nível 1, indica que sono de má qualidade é uma experiência comum e prevalente neste grupo.\n",
    "\n",
    "**5. Sintomas Fisiológicos:**\n",
    "* **`Pressão Sanguínea`**: Um indicador preocupante. A tendência de elevação é clara, com quase metade dos estudantes no nível mais alto. Um forte sinal de alerta que pode estar ligado ao estresse crônico.\n",
    "* **`Frequência de Dor de Cabeça` e `Problemas Respiratórios`**: Estes são sintomas crônicos para a maioria. A baixa contagem no nível 0 (ausência de sintomas) é reveladora: dores de cabeça e dificuldades respiratórias parecem normalizadas nesta população.\n",
    "\n",
    "\n",
    "##### **Perfil do Estudante Típico**\n",
    "\n",
    "Consolidando os achados, temos um retrato preocupante:\n",
    "O estudante médio desta amostra vive uma rotina acadêmica exigente, com autoavaliação de desempenho apenas regular. Sintomas físicos crônicos — dores de cabeça, problemas respiratórios e, mais alarmante, pressão arterial elevada — são comuns. A má qualidade do sono é realidade para a grande maioria.\n",
    "O ambiente social traz desafios próprios. O Frequência de Bullying é uma experiência prevalente, e o suporte social é polarizado: ou é forte, ou é insuficiente. O estudante típico vive em contexto socioeconômico intermediário, com necessidades básicas atendidas, mas lida com uma carga de estudos e atividades que pode estar contribuindo para seu esgotamento físico e mental.\n"
   ]
  },
  {
   "cell_type": "markdown",
   "id": "6b9dc186",
   "metadata": {},
   "source": [
    "### 🔎 Análise Bivariada\n",
    "\n",
    "* **Objetivo:** Investigar como cada variável preditiva se relaciona com a nossa variável alvo, `stress_level`. Isso nos ajudará a identificar quais fatores parecem ter maior influência sobre o estresse."
   ]
  },
  {
   "cell_type": "code",
   "execution_count": null,
   "id": "d35f76de",
   "metadata": {},
   "outputs": [],
   "source": [
    "# Reutiliza a lista de features e a grade de visualização da célula anterior\n",
    "fig, axes = plt.subplots(n_rows, n_cols, figsize=(18, n_rows * 5))\n",
    "axes = axes.flatten()\n",
    "\n",
    "# Itera sobre cada feature para criar os gráficos\n",
    "for i, feature in enumerate(features):\n",
    "    ax = axes[i]\n",
    "    titulo_traduzido = FEATURE_TRANSLATOR.get(feature, feature)\n",
    "\n",
    "    # Cria o gráfico de contagem, segmentado pela variável alvo\n",
    "    sns.countplot(x=feature, data=df, hue=TARGET_VARIABLE, ax=ax, palette=\"viridis\")\n",
    "\n",
    "    # Configurações do gráfico\n",
    "    ax.set_title(\n",
    "        f\"'{titulo_traduzido}' vs. Nível de Estresse\", fontsize=13, weight=\"bold\"\n",
    "    )\n",
    "    ax.set_xlabel(\"\")\n",
    "    ax.set_ylabel(\"Contagem\")\n",
    "    ax.legend(title=\"Nível de Estresse\")\n",
    "\n",
    "# Oculta eixos não utilizados\n",
    "for ax in axes[len(features) :]:\n",
    "    ax.axis(\"off\")\n",
    "\n",
    "plt.tight_layout(pad=2.0)\n",
    "plt.show()"
   ]
  },
  {
   "cell_type": "markdown",
   "id": "325543d6",
   "metadata": {},
   "source": [
    "#### 📋 Análise dos Resultados\n",
    "\n",
    "##### **Observações Gerais e Conclusões da Análise Bivariada:**\n",
    "\n",
    "Nesta etapa, cruzamos cada variável preditiva com a nossa variável alvo (`Nível de Estresse`) para identificar padrões e a força da relação entre elas. Variáveis que mostram uma mudança clara na distribuição do estresse são fortes candidatas a serem bons preditores para o modelo de Machine Learning.\n",
    "\n",
    "**1. Fatores Acadêmicos e de Carreira:**\n",
    "* **`Desempenho Acadêmico`**: A **correlação negativa é muito clara**. Estudantes com performance alta (níveis 4 e 5) apresentam predominantemente estresse baixo, enquanto estresse médio e alto são raros. Um forte preditor inverso.\n",
    "* **`Carga de Estudos`**: Confirma-se uma **forte correlação positiva**. Quanto maior a carga de estudos, maior a proporção de estresse elevado.\n",
    "* **`Relação Professor-Aluno`**: Existe uma **correlação negativa visível**. Relações melhores com professores estão associadas a menos estresse alto. Um efeito protetor interessante.\n",
    "* **`Preocupações com a Carreira` e `Atividades Extracurriculares`**: Ambas demonstram uma **forte correlação positiva**. Mais preocupação com o futuro e maior envolvimento em atividades extracurriculares aparecem ligados a níveis mais altos de estresse.\n",
    "\n",
    "**2. Fatores Psicológicos e de Saúde Mental:**\n",
    "* **`Nível de Ansiedadel` e `Nível de Depressão`**: Como esperado, ambos mostram uma **correlação positiva fortíssima e linear**. Nos níveis baixos dessas escalas, o estresse é praticamente inexistente. Nos níveis altos, o estresse elevado domina por completo. Essas serão, provavelmente, as variáveis mais influentes do modelo.\n",
    "* **`Nível de Autoestima`**: Apresenta uma **correlação negativa muito clara**. Quanto maior a autoestima, menor o nível de estresse.\n",
    "* **`Histórico de Saúde Mental`**: Sendo binária, essa variável mostra seu poder de forma direta. Quem tem histórico de problemas de saúde mental apresenta proporção **significativamente maior** de estresse elevado.\n",
    "\n",
    "**3. Fatores Sociais e de Relacionamento:**\n",
    "* **`Suporte Social`**: A análise revela uma relação não linear interessante: O pico de estresse alto ocorre no nível 1 (suporte insuficiente/insatisfatória), sendo até mais alto que no nível 0 (ausência total de suporte). Parece que perceber um suporte \"falho\" é mais estressante do que não ter suporte nenhum. De modo geral, porém, a tendência é de **forte correlação negativa**.\n",
    "* **`Frequência de Bullying`**: Uma das **correlações positivas mais fortes**. A proporção de estresse alto cresce de forma alarmante com o aumento do Frequência de Bullying.\n",
    "* **`Pressão dos Colegas`**: Mostra uma **correlação positiva moderada**. A pressão dos colegas aumenta o estresse, mas de forma menos acentuada que o Frequência de Bullying.\n",
    "\n",
    "**4. Fatores de Bem-Estar e Ambiente:**\n",
    "* **`Condições de Moradia`, `Sensação de Segurança`, `Atendimento de Necessidades Básicas` e `Qualidade do Sono`**: Todas mostram **correlação negativa consistente**. Melhores condições de vida, maior segurança, necessidades básicas bem atendidas e maior qualidade de sono estão claramente associadas a níveis mais baixos de estresse.\n",
    "* **`Nível de Ruído`**: **Correlação positiva forte**. Mais barulho, mais estresse.\n",
    "\n",
    "**5. Sintomas Fisiológicos:**\n",
    "* **`Frequência de Dor de Cabeça` e `Problemas Respiratórios`**: Ambas têm uma **correlação positiva muito forte**. A maior frequência desses sintomas está diretamente ligada a uma maior proporção de estresse alto.\n",
    "* **`Pressão Sanguínea`**: A relação é **extremamente forte e praticamente determinística**. Estresse alto está concentrado quase exclusivamente no grupo com maior nível de pressão arterial. Um divisor de águas claro entre as classes.\n",
    "\n",
    "\n",
    "##### **Ranking de Preditores Potenciais**\n",
    "\n",
    "A análise bivariada mostrou que o dataset possui uma boa variedade de preditores. A maioria das variáveis apresenta uma relação clara com o nível de estresse, o que é um sinal positivo para a modelagem. Com base na força e na clareza dessas relações, é possível organizar as variáveis da seguinte maneira:\n",
    "\n",
    "* **Preditores de Primeira Ordem (Relação Extremamente Forte):**\n",
    "    * `Nível de Ansiedadel`, `Nível de Depressão`: Quase proxies do próprio estresse.\n",
    "    * `Pressão Sanguínea`: Divisor de águas entre as classes.\n",
    "    * `Frequência de Bullying`, `Suporte Social`, `Nível de Autoestima`: Fatores psicossociais com impacto massivo.\n",
    "\n",
    "* **Preditores de Segunda Ordem (Relação Forte e Consistente):**\n",
    "    * `Desempenho Acadêmico`, `Carga de Estudos`: A dupla central da vida acadêmica.\n",
    "    * `Qualidade do Sono`: Fator de bem-estar fundamental.\n",
    "    * `Frequência de Dor de Cabeça`, `Problemas Respiratórios`: Sintomas físicos associados.\n",
    "    * `Preocupações com a Carreira`, `Histórico de Saúde Mental`: Indicadores de preocupação e predisposição.\n",
    "\n",
    "* **Preditores de Terceira Ordem (Relação Clara, porém mais Moderada):**\n",
    "    * `Condições de Moradia`, `Sensação de Segurança`, `Atendimento de Necessidades Básicas`: Base do bem-estar.\n",
    "    * `Relação Professor-Aluno`, `Pressão dos Colegas`, `Atividades Extracurriculares`, `Nível de Ruído`: Variáveis contextuais moduladoras."
   ]
  },
  {
   "cell_type": "markdown",
   "id": "758c01e1",
   "metadata": {},
   "source": [
    "### 🔎 Análise Multivariada: Matriz de Correlação\n",
    "\n",
    "* **Objetivo:** Visualizar a correlação linear entre todas as variáveis numéricas do dataset por meio de um mapa de calor (heatmap), permitindo obter uma visão quantitativa da intensidade e da direção das relações lineares entre os pares de variáveis."
   ]
  },
  {
   "cell_type": "code",
   "execution_count": null,
   "id": "661725a3",
   "metadata": {},
   "outputs": [],
   "source": [
    "# 1. Cálculo e Tradução da Matriz\n",
    "corr_matrix = df.corr()\n",
    "translated_corr_matrix = corr_matrix.rename(\n",
    "    columns=FEATURE_TRANSLATOR, index=FEATURE_TRANSLATOR\n",
    ")\n",
    "\n",
    "# 2. Visualização do Heatmap\n",
    "plt.figure(figsize=(18, 15))\n",
    "ax = sns.heatmap(\n",
    "    translated_corr_matrix,\n",
    "    annot=True,\n",
    "    cmap=\"coolwarm\",\n",
    "    fmt=\".2f\",\n",
    "    linewidths=0.5,\n",
    ")\n",
    "plt.title(\"Matriz de Correlação entre Todas as Variáveis\", fontsize=16, weight=\"bold\")\n",
    "plt.xticks(rotation=45, ha=\"right\")\n",
    "plt.yticks(rotation=0)\n",
    "\n",
    "# 3. Destaque da Variável Alvo nos Eixos\n",
    "translated_target_name = FEATURE_TRANSLATOR.get(TARGET_VARIABLE, TARGET_VARIABLE)\n",
    "for label in ax.get_yticklabels() + ax.get_xticklabels():\n",
    "    if label.get_text() == translated_target_name:\n",
    "        label.set_weight(\"bold\")\n",
    "        label.set_color(\"firebrick\")\n",
    "\n",
    "plt.show()\n",
    "\n",
    "# 4. Listagem Ordenada da Correlação com a Variável Alvo\n",
    "print(f\"\\nCorrelação das Variáveis com '{translated_target_name}':\")\n",
    "correlation_with_target = (\n",
    "    corr_matrix[TARGET_VARIABLE].rename(FEATURE_TRANSLATOR).sort_values(ascending=False)\n",
    ")\n",
    "print(correlation_with_target)"
   ]
  },
  {
   "cell_type": "markdown",
   "id": "caaa9fd2",
   "metadata": {},
   "source": [
    "#### 📋 Análise dos Resultados\n",
    "\n",
    "##### **Correlação com a Variável Alvo (`Nível de Estresse`)**\n",
    "\n",
    "A lista ordenada de correlações confirma numericamente o que vimos nos gráficos. Podemos dividir os achados em dois grupos principais:\n",
    "\n",
    "* **Correlações Positivas (Fatores de Risco)**:\n",
    "    * As variáveis com os maiores valores positivos, como **`Frequência de Bullying` (0.75)**, **`Preocupações com a Carreira` (0.74)**, **`Nível de Ansiedadel` (0.74)** e **`Nível de Depressão` (0.73)**, são os indicadores mais fortes de estresse. Quanto maior o valor dessas variáveis, maior o nível de estresse.\n",
    "\n",
    "* **Correlações Negativas (Fatores de Proteção)**:\n",
    "    * As variáveis com os valores negativos mais fortes, como **`Nível de Autoestima` (-0.76)**, **`Qualidade do Sono` (-0.75)**, **`Desempenho Acadêmico` (-0.72)** e **`Sensação de Segurança` (-0.71)**, atuam como protetores. Valores mais altos estão fortemente associados a menos estresse.\n",
    "\n",
    "**Conclusão**: A análise quantitativa valida completamente nossas observações visuais da análise bivariada. Temos um conjunto robusto de features com forte poder preditivo.\n",
    "\n",
    "##### **Multicolinearidade entre Features**\n",
    "\n",
    "Olhando o heatmap, buscamos correlações fortes entre as próprias variáveis preditoras (fora da linha/coluna `Nível de Estresse`). Multicolinearidade ocorre quando duas features medem essencialmente a mesma coisa, o que pode inflar artificialmente a importância de variáveis ou dificultar a interpretação dos resultados.\n",
    "\n",
    "Alguns pontos de atenção:\n",
    "\n",
    "* **`Atendimento de Necessidades Básicas` e `Sensação de Segurança` (0.82)**: Correlação muito alta. Faz sentido: a percepção de segurança está diretamente ligada ao atendimento de necessidades básicas.\n",
    "* **`Frequência de Bullying` e `Nível de Ansiedadel` (0.71)**: Alta correlação, sugerindo que experiências de Frequência de Bullying andam de mãos dadas com níveis elevados de ansiedade.\n",
    "* **`Nível de Autoestima` e `Qualidade do Sono` (0.69)**: Correlação forte e interessante: melhor autoestima parece estar ligada a melhor qualidade de sono.\n",
    "\n",
    "**Decisão Técnica**: Embora existam pontos de multicolinearidade, os modelos que pretendemos testar inicialmente (como Random Forest) são robustos a esse fenômeno. Seguindo o princípio da simplicidade (**YAGNI** - *You Aren't Gonna Need It*), **manteremos todas as features por enquanto**. Essa análise fica registrada caso seja necessário refinar o modelo em ciclos futuros de otimização.\n",
    "\n",
    "##### **Conclusões Finais da EDA**\n",
    "\n",
    "Concluímos esta fase com as seguintes pontos:\n",
    "1.  O dataset é de **alta qualidade**, sem dados ausentes ou duplicados.\n",
    "2.  A variável alvo, `Nível de Estresse`, está **bem balanceada**.\n",
    "3.  Existem **muitas features com forte correlação** (positiva e negativa) com o estresse, indicando grande potencial preditivo.\n",
    "4.  Identificamos a presença de **multicolinearidade**, mas optamos por não tratar neste momento para manter a simplicidade."
   ]
  },
  {
   "cell_type": "markdown",
   "id": "0fd0ec90",
   "metadata": {},
   "source": [
    "# 4. 🧹 Pré-processamento e Preparação dos Dados"
   ]
  },
  {
   "cell_type": "markdown",
   "id": "c8bd92f2",
   "metadata": {},
   "source": [
    "Com base nas conclusões da Análise Exploratória, nosso dataset já está limpo e todas as variáveis são numéricas. Portanto, o pré-processamento será focado nas seguintes etapas essenciais:\n",
    "* **Separação de Features e Alvo:** Dividimos nosso DataFrame em X (matriz de features, ou variáveis preditoras) e y (vetor alvo, a variável que queremos prever).\n",
    "* **Divisão em Conjuntos de Treino e Teste:** Separamos os dados em dois conjuntos: um para treinamento (80% dos dados), utilizado para ensinar o modelo, e outro para teste (20% dos dados), empregado para avaliar seu desempenho em dados inéditos. Utilizamos a estratificação (stratify=y) para garantir que a proporção das classes de estresse fosse mantida em ambos os conjuntos, o que é essencial para datasets balanceados como o nosso."
   ]
  },
  {
   "cell_type": "code",
   "execution_count": null,
   "id": "7591357c",
   "metadata": {},
   "outputs": [],
   "source": [
    "# Define as features (X) e a variável alvo (y) usando a constante global\n",
    "# CORREÇÃO: Utiliza a variável `TARGET_VARIABLE` em vez da string \"TARGET_VARIABLE\"\n",
    "X = df.drop(TARGET_VARIABLE, axis=1)\n",
    "y = df[TARGET_VARIABLE]\n",
    "\n",
    "# Exibe as dimensões para verificação\n",
    "print(f\"Dimensões de X (features): {X.shape}\")\n",
    "print(f\"Dimensões de y (alvo): {y.shape}\")"
   ]
  },
  {
   "cell_type": "code",
   "execution_count": null,
   "id": "05308ee4",
   "metadata": {},
   "outputs": [],
   "source": [
    "# Separa os dados para treinar o modelo e para avaliá-lo em dados não vistos\n",
    "X_train, X_test, y_train, y_test = train_test_split(\n",
    "    X,\n",
    "    y,\n",
    "    test_size=0.2,  # 20% dos dados para o conjunto de teste\n",
    "    random_state=RANDOM_STATE,  # Garante reprodutibilidade\n",
    "    stratify=y,  # Mantém a proporção das classes nos dois conjuntos\n",
    ")\n",
    "\n",
    "# Verifica as dimensões dos conjuntos resultantes\n",
    "print(f\"Dimensões de X_train: {X_train.shape}\")\n",
    "print(f\"Dimensões de X_test:  {X_test.shape}\")\n",
    "print(f\"Dimensões de y_train: {y_train.shape}\")\n",
    "print(f\"Dimensões de y_test:  {y_test.shape}\")"
   ]
  },
  {
   "cell_type": "markdown",
   "id": "4ac43fd8",
   "metadata": {},
   "source": [
    "# 5. 🤖 Modelagem e Treinamento"
   ]
  },
  {
   "cell_type": "markdown",
   "id": "78468ca9",
   "metadata": {},
   "source": [
    "Nesta fase, iniciaremos o processo de construção de modelos de Machine Learning para prever o nível de estresse dos estudantes.Nossa estratégia será divida nas seguintes etapas:\n",
    "* Criar uma Função de Avaliação\n",
    "* Estabelecer um Baseline\n",
    "* Treinar Modelos Candidatos: Decision Tree e Random Forest\n",
    "* Ao final, comparamos o desempenho dos três modelos para selecionar o melhor candidato."
   ]
  },
  {
   "cell_type": "markdown",
   "id": "3d2b415d",
   "metadata": {},
   "source": [
    "## 📌 Criar uma Função de Avaliação\n",
    "* **Objetivo:** Para evitar a repetição de código, criamos uma função auxiliar (evaluate_model) que calcula e exibe as principais métricas de desempenho (acurácia, relatório de classificação) e a matriz de confusão para qualquer modelo treinado."
   ]
  },
  {
   "cell_type": "code",
   "execution_count": null,
   "id": "868fe620",
   "metadata": {},
   "outputs": [],
   "source": [
    "def evaluate_model(model, X_test, y_test, model_name):\n",
    "    \"\"\"\n",
    "    Realiza previsões, calcula e exibe as métricas de avaliação e a matriz de confusão.\n",
    "\n",
    "    Args:\n",
    "        model: O modelo treinado a ser avaliado.\n",
    "        X_test: Dados de teste (features).\n",
    "        y_test: Dados de teste (alvo).\n",
    "        model_name (str): Nome do modelo para usar nos títulos.\n",
    "    \"\"\"\n",
    "    # 1. Realiza previsões\n",
    "    y_pred = model.predict(X_test)\n",
    "\n",
    "    # 2. Calcula e exibe a acurácia\n",
    "    accuracy = accuracy_score(y_test, y_pred)\n",
    "    print(f\"--- Avaliação: {model_name} ---\")\n",
    "    print(f\"Acurácia: {accuracy:.2%}\\n\")\n",
    "\n",
    "    # 3. Exibe o relatório de classificação\n",
    "    print(\"Relatório de Classificação:\")\n",
    "    class_names = [\"Baixo\", \"Médio\", \"Alto\"]\n",
    "    print(classification_report(y_test, y_pred, target_names=class_names))\n",
    "\n",
    "    # 4. Exibe a matriz de confusão\n",
    "    print(\"Matriz de Confusão:\")\n",
    "    ConfusionMatrixDisplay.from_estimator(\n",
    "        model, X_test, y_test, display_labels=class_names\n",
    "    )\n",
    "    plt.title(f\"Matriz de Confusão - {model_name}\")\n",
    "    plt.show()"
   ]
  },
  {
   "cell_type": "markdown",
   "id": "fd943d4f",
   "metadata": {},
   "source": [
    "## 📌 Estabelecer um Baseline\n",
    "* **Objetivo:** Treinamos um DummyClassifier, um modelo simples que faz previsões baseadas na distribuição das classes. Ele nos dá um ponto de referência: qualquer modelo mais complexo precisa ter um desempenho superior ao dele para ser considerado útil."
   ]
  },
  {
   "cell_type": "code",
   "execution_count": null,
   "id": "73fec54c",
   "metadata": {},
   "outputs": [],
   "source": [
    "# 1. Instancia e treina o modelo baseline\n",
    "baseline_model = DummyClassifier(strategy=\"stratified\", random_state=RANDOM_STATE)\n",
    "baseline_model.fit(X_train, y_train)\n",
    "\n",
    "# 2. Avalia o modelo usando a função auxiliar\n",
    "evaluate_model(baseline_model, X_test, y_test, \"Modelo Baseline (Dummy Classifier)\")"
   ]
  },
  {
   "cell_type": "markdown",
   "id": "b1418dc4",
   "metadata": {},
   "source": [
    "## 📌 Modelo 1: Decision Tree\n",
    "* **Objetivo:** Com o baseline estabelecido, vamos agora treinar nosso primeiro modelo preditivo real. Decision tree é um modelo interpretável que aprende regras de decisão a partir dos dados."
   ]
  },
  {
   "cell_type": "code",
   "execution_count": null,
   "id": "6ded946c",
   "metadata": {},
   "outputs": [],
   "source": [
    "# 1. Instancia e treina o modelo\n",
    "tree_model = DecisionTreeClassifier(random_state=RANDOM_STATE)\n",
    "tree_model.fit(X_train, y_train)\n",
    "\n",
    "# 2. Avalia o modelo\n",
    "evaluate_model(tree_model, X_test, y_test, \"Árvore de Decisão\")"
   ]
  },
  {
   "cell_type": "markdown",
   "id": "ecd8754c",
   "metadata": {},
   "source": [
    "## 📌 Modelo 2: Random Forest\n",
    "* **Objetivo:** O modelo de Árvore de Decisão entregou um ótimo resultado. Agora, vamos dar um passo além e testar o Random Forest — um modelo de ensemble que combina várias árvores para gerar previsões mais consistentes e reduzir o risco de overfitting."
   ]
  },
  {
   "cell_type": "code",
   "execution_count": null,
   "id": "73c525d2",
   "metadata": {},
   "outputs": [],
   "source": [
    "# 1. Instancia e treina o modelo\n",
    "rf_model = RandomForestClassifier(n_estimators=100, random_state=RANDOM_STATE)\n",
    "rf_model.fit(X_train, y_train)\n",
    "\n",
    "# 2. Avalia o modelo\n",
    "evaluate_model(rf_model, X_test, y_test, \"Random Forest\")"
   ]
  },
  {
   "cell_type": "markdown",
   "id": "c37ca4ca",
   "metadata": {},
   "source": [
    "## 📌 Comparação dos Modelos e Escolha Final\n",
    "\n",
    "Após treinar e avaliar três modelos distintos, podemos comparar seus resultados de acurácia para selecionar o mais performático.\n",
    "\n",
    "| Modelo | Acurácia no Conjunto de Teste |\n",
    "| :--- | :--- |\n",
    "| Baseline (Dummy Classifier) | 35% |\n",
    "| Árvore de Decisão | 85% |\n",
    "| **Random Forest** | **89%** |\n",
    "\n",
    "### Modelo Escolhido\n",
    "\n",
    "Depois de comparar os modelos, o **Random Forest Classifier** se destacou como a melhor escolha para este projeto. Três razões principais:\n",
    "1. **Acurácia mais alta:** Atingiu 89%, o melhor resultado entre todos os modelos testados.\n",
    "2. **Equilíbrio entre as classes:** O `f1-score` médio foi superior e mais bem distribuído, indicando que o modelo não favorece uma classe em detrimento de outra.\n",
    "3. **Maior confiabilidade:** Por ser um ensemble, o Random Forest tende a generalizar melhor que uma árvore isolada, oferecendo previsões mais estáveis em dados novos."
   ]
  },
  {
   "cell_type": "markdown",
   "id": "fd713897",
   "metadata": {},
   "source": [
    "# 6. 🛠️ Otimização de Hiperparâmetros"
   ]
  },
  {
   "cell_type": "markdown",
   "id": "2d5441f5",
   "metadata": {},
   "source": [
    "O Random Forest apresentou o melhor desempenho com seus parâmetros padrão (como n_estimators=100). Embora seja possível ir além e ajustar hiperparâmetros — testando diferentes números de árvores, profundidades máximas, critérios de divisão, entre outros — por meio de técnicas como Grid Search ou Random Search com validação cruzada, optamos por não realizar essa etapa aqui.\n",
    "Para o escopo atual, o desempenho do modelo já é excelente e atende aos objetivos do projeto. Caso seja necessário espremer mais alguns pontos percentuais de performance no futuro, a otimização de hiperparâmetros seria o próximo passo natural."
   ]
  },
  {
   "cell_type": "markdown",
   "id": "a66c1039",
   "metadata": {},
   "source": [
    "# 7. 🏁 Conclusão"
   ]
  },
  {
   "cell_type": "markdown",
   "id": "004f958f",
   "metadata": {},
   "source": [
    "## 📌 Exportação\n",
    "A última etapa do nosso pipeline de desenvolvimento é salvar (ou \"serializar\") o objeto do modelo treinado em um arquivo. Isso nos permite recarregar o modelo treinado em outros ambientes ou aplicações — como nosso dashboard em Streamlit — sem a necessidade de refazer todo o processo de treinamento. Utilizamos a biblioteca `joblib` para esta tarefa, que é eficiente para salvar objetos Python que contêm grandes arrays de dados, como os modelos do Scikit-Learn."
   ]
  },
  {
   "cell_type": "code",
   "execution_count": null,
   "id": "56104d1a",
   "metadata": {},
   "outputs": [],
   "source": [
    "# Define o caminho e garante que o diretório exista\n",
    "model_dir = \"../models\"\n",
    "os.makedirs(model_dir, exist_ok=True)\n",
    "model_path = os.path.join(model_dir, \"student_stress_rf_model.joblib\")\n",
    "\n",
    "# Salva o objeto do modelo no arquivo\n",
    "joblib.dump(rf_model, model_path)\n",
    "\n",
    "print(f\"✅ Modelo Random Forest salvo com sucesso em: {model_path}\")"
   ]
  },
  {
   "cell_type": "markdown",
   "id": "1eed5991",
   "metadata": {},
   "source": [
    "## 📌 Resumo do Projeto\n",
    "Percorremos todo o ciclo de um projeto de Machine Learning: desde a exploração inicial dos dados até a criação e exportação de um modelo preditivo funcional.\n",
    "### Principais Conclusões\n",
    "* O dataset é limpo e bem estruturado — não tivemos que lidar com valores ausentes, o que acelerou bastante o processo.\n",
    "* A análise exploratória mostrou que a variável alvo está razoavelmente balanceada e que várias features possuem correlação significativa com os níveis de estresse.\n",
    "* O Random Forest alcançou uma acurácia consideravelmente alta e desempenho superior tanto ao baseline quanto à Árvore de Decisão individual. Isso sugere que os padrões nos dados são complexos e se beneficiam de uma abordagem ensemble.\n",
    "* O modelo final foi salvo com sucesso e está pronto para ser integrado em aplicações que realizem previsões em tempo real."
   ]
  }
 ],
 "metadata": {
  "kernelspec": {
   "display_name": "tech-challenge-machine-learning-py3.10",
   "language": "python",
   "name": "python3"
  },
  "language_info": {
   "codemirror_mode": {
    "name": "ipython",
    "version": 3
   },
   "file_extension": ".py",
   "mimetype": "text/x-python",
   "name": "python",
   "nbconvert_exporter": "python",
   "pygments_lexer": "ipython3",
   "version": "3.10.11"
  }
 },
 "nbformat": 4,
 "nbformat_minor": 5
}
