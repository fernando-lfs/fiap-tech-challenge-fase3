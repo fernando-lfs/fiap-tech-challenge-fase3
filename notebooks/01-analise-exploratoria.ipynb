{
 "cells": [
  {
   "cell_type": "markdown",
   "id": "fa96308d",
   "metadata": {},
   "source": [
    "# 📊 Tech Challenge - Análise e Previsão de Fatores de Estresse em Estudantes\n",
    "\n",
    "## 📑 Sumário\n",
    "1. [📝 Definição do problema](#1-📝-Definição-do-problema)\n",
    "2. [📥 Coleta e preparação dos dados](#2-📥-Coleta-e-preparação-dos-dados)\n",
    "3. [🔎 Análise exploratória de dados (EDA)](#3-🔎-Análise-exploratória-de-dados-EDA)\n",
    "4. [⚙️ Engenharia e seleção de atributos](#4-⚙️-Engenharia-e-seleção-de-atributos)\n",
    "5. [🤖 Modelagem](#5-🤖-Modelagem)\n",
    "6. [📏 Avaliação e interpretação dos resultados](#6-📏-Avaliação-e-interpretação-dos-resultados)\n",
    "7. [🚀 Deploy](#7-🚀-Deploy)"
   ]
  },
  {
   "cell_type": "markdown",
   "id": "317e296c",
   "metadata": {},
   "source": [
    "## 1. 📝 Definição do problema\n",
    "\n",
    "* **Problema de Negócio:** Desenvolver uma solução que permita a instituições de ensino identificar estudantes com risco de estresse elevado, possibilitando a criação de programas de apoio mais direcionados e eficazes.\n",
    "* **Objetivo Técnico:** O problema foi enquadrado como um desafio de **Classificação Multiclasse**. O objetivo é treinar um modelo de Machine Learning para prever o nível de estresse de um estudante em uma de três categorias (0: baixo, 1: médio, 2: alto), utilizando a coluna `stress_level` como variável-alvo."
   ]
  },
  {
   "cell_type": "markdown",
   "id": "2dc36980",
   "metadata": {},
   "source": [
    "## 2. 📥 Coleta e preparação dos dados\n",
    "\n",
    "#### 📌 Coleta de Dados\n",
    "\n",
    "* **Fonte dos Dados:** Foi utilizado um dataset público da plataforma Kaggle, chamado \"Student Stress Factors - A Comprehensive Analysis\".\n",
    "* **Justificativa:** A utilização de um dataset já existente foi uma decisão estratégica para otimizar o tempo e concentrar os esforços do projeto nas etapas de Análise, Modelagem e Deploy, que são o foco do desafio.\n",
    "\n",
    "#### 📌 Armazenamento dos Dados\n",
    "\n",
    "* **Solução Adotada:** Para simular um ambiente de produção e garantir a reprodutibilidade, os dados foram armazenados em um sistema de armazenamento de objetos local (MinIO)].\n",
    "* **Processo:** Um bucket chamado `student-stress` foi criado no servidor MinIO , e o dataset `StressLevelDataset.csv` foi carregado, tornando-se acessível via serviço para a etapa de análise."
   ]
  },
  {
   "cell_type": "code",
   "execution_count": null,
   "id": "d4538c03",
   "metadata": {},
   "outputs": [],
   "source": [
    "# Importação de Bibliotecas\n",
    "import pandas as pd\n",
    "import seaborn as sns\n",
    "import matplotlib.pyplot as plt\n",
    "import boto3\n",
    "from io import BytesIO\n",
    "\n",
    "# Configurações de estilo para os gráficos\n",
    "sns.set_style(\"whitegrid\")\n",
    "plt.rcParams['figure.figsize'] = (12, 6)"
   ]
  },
  {
   "cell_type": "code",
   "execution_count": null,
   "id": "eeaedd36",
   "metadata": {},
   "outputs": [],
   "source": [
    "# Configurações de conexão com o MinIO\n",
    "MINIO_ENDPOINT = \"127.0.0.1:9000\"\n",
    "MINIO_ACCESS_KEY = \"minioadmin\"  # Use o seu usuário\n",
    "MINIO_SECRET_KEY = \"minioadmin\"  # Use a sua senha\n",
    "BUCKET_NAME = \"student-stress\"\n",
    "OBJECT_NAME = \"StressLevelDataset.csv\"\n",
    "\n",
    "# Criar um cliente S3 compatível para interagir com o MinIO\n",
    "s3_client = boto3.client(\n",
    "    \"s3\",\n",
    "    endpoint_url=f\"http://{MINIO_ENDPOINT}\",\n",
    "    aws_access_key_id=MINIO_ACCESS_KEY,\n",
    "    aws_secret_access_key=MINIO_SECRET_KEY,\n",
    "    aws_session_token=None,\n",
    "    config=boto3.session.Config(signature_version=\"s3v4\"),\n",
    ")\n",
    "\n",
    "# Tentar carregar o objeto do bucket\n",
    "try:\n",
    "    response = s3_client.get_object(Bucket=BUCKET_NAME, Key=OBJECT_NAME)\n",
    "    # Ler o conteúdo do objeto em um DataFrame do Pandas\n",
    "    # O BytesIO trata os bytes do objeto como um arquivo em memória\n",
    "    df = pd.read_csv(BytesIO(response[\"Body\"].read()))\n",
    "    print(\"Dataset carregado com sucesso do MinIO!\")\n",
    "except Exception as e:\n",
    "    print(f\"Erro ao carregar o dataset do MinIO: {e}\")"
   ]
  },
  {
   "cell_type": "markdown",
   "id": "7c3099c6",
   "metadata": {},
   "source": [
    "#### 📌 Inspeção Inicial do DataFrame"
   ]
  },
  {
   "cell_type": "code",
   "execution_count": null,
   "id": "861601e3",
   "metadata": {},
   "outputs": [],
   "source": [
    "# Visualizar as 5 primeiras linhas do dataset\n",
    "print(\"Primeiras 5 linhas do dataset:\")\n",
    "display(df.head())\n",
    "\n",
    "# Obter informações gerais sobre o DataFrame (tipos de dados, valores não nulos)\n",
    "print(\"\\nInformações gerais do DataFrame:\")\n",
    "df.info()\n",
    "\n",
    "# Obter estatísticas descritivas para as colunas numéricas\n",
    "print(\"\\nEstatísticas Descritivas:\")\n",
    "display(df.describe())\n",
    "\n",
    "# Verificar as dimensões do dataset (linhas, colunas)\n",
    "print(f\"\\nO dataset possui {df.shape[0]} linhas e {df.shape[1]} colunas.\")\n",
    "\n",
    "# Contar o número de linhas completamente duplicadas no DataFrame\n",
    "num_duplicates = df.duplicated().sum()\n",
    "print(f\"Número de linhas duplicadas encontradas: {num_duplicates}\")"
   ]
  },
  {
   "cell_type": "markdown",
   "id": "db8188e2",
   "metadata": {},
   "source": [
    "#### Análise Preliminar e Qualidade dos Dados\n",
    "\n",
    "A inspeção inicial do dataset, realizada através dos comandos `.info()`, `.describe()` e `.head()`, revelou os seguintes insights cruciais que guiarão as próximas etapas:\n",
    "\n",
    "* **Ausência de Dados Faltantes:** Todas as 21 colunas contêm 1100 registros não nulos. Isso indica uma excelente qualidade de dados e nos isenta da necessidade de aplicar técnicas de tratamento de valores ausentes (imputação).\n",
    "\n",
    "* **Formato Numérico Uniforme:** Todas as variáveis são do tipo `int64`, o que simplifica a etapa de pré-processamento, pois não será necessário realizar a conversão de tipos de dados (ex: *encoding* de variáveis categóricas textuais).\n",
    "\n",
    "* **Natureza Implícita das Variáveis:** Apesar do tipo `int64`, a análise semântica e estatística (`min`, `max`) sugere que as colunas representam diferentes tipos de dados. Temos uma mistura de variáveis que, na prática, são categóricas binárias (ex: `mental_health_history`), ordinais (escalas de 0 a 5) e a variável-alvo multiclasse (`stress_level`), que é o foco da nossa previsão.\n",
    "\n",
    "------\n",
    "\n",
    "#### Conclusão sobre a Variável-Alvo\n",
    "\n",
    "A análise da distribuição da variável `stress_level` mostra que as três classes (0: Baixo, 1: Médio, 2: Alto) estão **muito bem balanceadas**. Com contagens de 373, 358 e 369 respectivamente, temos uma base sólida e imparcial para o treinamento do modelo de classificação, eliminando a necessidade de técnicas de balanceamento de classes.\n",
    "\n",
    "#### Resumo da Análise de Qualidade dos Dados\n",
    "\n",
    "A análise de qualidade, que incluiu a verificação de valores ausentes e registros duplicados, revelou um dataset excepcionalmente limpo. As principais conclusões são:\n",
    "\n",
    "* **Dados Completos:** Não foi encontrado **nenhum valor ausente** em nenhuma das 21 colunas.\n",
    "* **Dados Únicos:** A verificação confirmou que não há **nenhuma linha duplicada** no conjunto de dados.\n",
    "* **Formato Adequado:** Todas as variáveis já estão no formato numérico (`int64`), o que simplifica as etapas futuras de pré-processamento.\n",
    "\n",
    "Com base nisso, a fase de limpeza de dados é considerada concluída, e podemos prosseguir com confiança para a análise de distribuição das variáveis."
   ]
  },
  {
   "cell_type": "markdown",
   "id": "0d8ffcd8",
   "metadata": {},
   "source": [
    "#### 5. Análise da Variável-Alvo (stress_level)"
   ]
  },
  {
   "cell_type": "code",
   "execution_count": null,
   "id": "1e4ca8d5",
   "metadata": {},
   "outputs": [],
   "source": [
    "# --- Análise Univariada ---\n",
    "\n",
    "# 1. Análise da Variável-Alvo: stress_level\n",
    "plt.figure(figsize=(8, 6))\n",
    "sns.countplot(x=\"stress_level\", data=df, palette=\"viridis\")\n",
    "\n",
    "# Adicionando títulos e rótulos para maior clareza\n",
    "plt.title(\"Distribuição da Variável-Alvo (Nível de Estresse)\", fontsize=16)\n",
    "plt.xlabel(\"Nível de Estresse (0: Baixo, 1: Médio, 2: Alto)\", fontsize=12)\n",
    "plt.ylabel(\"Contagem de Estudantes\", fontsize=12)\n",
    "\n",
    "# Exibindo o gráfico\n",
    "plt.show()\n",
    "\n",
    "# Para complementar o gráfico, vamos exibir a contagem exata de cada classe\n",
    "print(\"Contagem de valores para cada nível de estresse:\")\n",
    "print(df[\"stress_level\"].value_counts())"
   ]
  },
  {
   "cell_type": "markdown",
   "id": "b69334d4",
   "metadata": {},
   "source": [
    "#### 6. Histogramas de Todas as Variáveis Preditivas"
   ]
  },
  {
   "cell_type": "code",
   "execution_count": null,
   "id": "7f65d069",
   "metadata": {},
   "outputs": [],
   "source": [
    "# 2. Análise das Variáveis Preditivas (Features)\n",
    "\n",
    "# Selecionar todas as colunas, exceto a nossa variável-alvo 'stress_level'\n",
    "features = df.drop(\"stress_level\", axis=1).columns\n",
    "\n",
    "# Criar um histograma para cada feature\n",
    "for feature in features:\n",
    "    plt.figure(figsize=(10, 5))\n",
    "    # Usaremos um histograma, ideal para variáveis numéricas/ordinais\n",
    "    sns.histplot(\n",
    "        df[feature], kde=True, bins=20\n",
    "    )  # kde=True adiciona uma linha de densidade\n",
    "    plt.title(f\"Distribuição de: {feature}\", fontsize=15)\n",
    "    plt.xlabel(feature, fontsize=12)\n",
    "    plt.ylabel(\"Frequência\", fontsize=12)\n",
    "    plt.show()"
   ]
  }
 ],
 "metadata": {
  "kernelspec": {
   "display_name": "tech-challenge-machine-learning-py3.10",
   "language": "python",
   "name": "python3"
  },
  "language_info": {
   "codemirror_mode": {
    "name": "ipython",
    "version": 3
   },
   "file_extension": ".py",
   "mimetype": "text/x-python",
   "name": "python",
   "nbconvert_exporter": "python",
   "pygments_lexer": "ipython3",
   "version": "3.10.11"
  }
 },
 "nbformat": 4,
 "nbformat_minor": 5
}
